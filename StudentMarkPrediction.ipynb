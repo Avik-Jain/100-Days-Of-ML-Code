{
 "cells": [
  {
   "cell_type": "markdown",
   "id": "de767b8a",
   "metadata": {},
   "source": [
    "# Assignement #1\n",
    "\n",
    "## Name: Anuj Patel \n",
    "\n",
    "## Student ID: 100904232"
   ]
  },
  {
   "cell_type": "code",
   "execution_count": 1,
   "id": "fb4bc0d3",
   "metadata": {},
   "outputs": [],
   "source": [
    "import numpy as np\n",
    "import pandas as pd\n",
    "import matplotlib.pyplot as plt\n",
    "import seaborn as sns "
   ]
  },
  {
   "cell_type": "code",
   "execution_count": 2,
   "id": "8f56e5eb",
   "metadata": {},
   "outputs": [],
   "source": [
    "url= \"https://raw.githubusercontent.com/Anuj020/CsvFiles/main/student-mat.csv\"\n",
    "student = pd.read_csv(url) "
   ]
  },
  {
   "cell_type": "markdown",
   "id": "e74b0c63",
   "metadata": {},
   "source": [
    "### A- Head, Info, Describe "
   ]
  },
  {
   "cell_type": "code",
   "execution_count": 3,
   "id": "f720d241",
   "metadata": {},
   "outputs": [
    {
     "data": {
      "text/html": [
       "<div>\n",
       "<style scoped>\n",
       "    .dataframe tbody tr th:only-of-type {\n",
       "        vertical-align: middle;\n",
       "    }\n",
       "\n",
       "    .dataframe tbody tr th {\n",
       "        vertical-align: top;\n",
       "    }\n",
       "\n",
       "    .dataframe thead th {\n",
       "        text-align: right;\n",
       "    }\n",
       "</style>\n",
       "<table border=\"1\" class=\"dataframe\">\n",
       "  <thead>\n",
       "    <tr style=\"text-align: right;\">\n",
       "      <th></th>\n",
       "      <th>school</th>\n",
       "      <th>sex</th>\n",
       "      <th>age</th>\n",
       "      <th>address</th>\n",
       "      <th>famsize</th>\n",
       "      <th>Pstatus</th>\n",
       "      <th>Medu</th>\n",
       "      <th>Fedu</th>\n",
       "      <th>Mjob</th>\n",
       "      <th>Fjob</th>\n",
       "      <th>...</th>\n",
       "      <th>famrel</th>\n",
       "      <th>freetime</th>\n",
       "      <th>goout</th>\n",
       "      <th>Dalc</th>\n",
       "      <th>Walc</th>\n",
       "      <th>health</th>\n",
       "      <th>absences</th>\n",
       "      <th>G1</th>\n",
       "      <th>G2</th>\n",
       "      <th>G3</th>\n",
       "    </tr>\n",
       "  </thead>\n",
       "  <tbody>\n",
       "    <tr>\n",
       "      <th>0</th>\n",
       "      <td>GP</td>\n",
       "      <td>F</td>\n",
       "      <td>18</td>\n",
       "      <td>U</td>\n",
       "      <td>GT3</td>\n",
       "      <td>A</td>\n",
       "      <td>4</td>\n",
       "      <td>4</td>\n",
       "      <td>at_home</td>\n",
       "      <td>teacher</td>\n",
       "      <td>...</td>\n",
       "      <td>4</td>\n",
       "      <td>3</td>\n",
       "      <td>4</td>\n",
       "      <td>1</td>\n",
       "      <td>1</td>\n",
       "      <td>3</td>\n",
       "      <td>6</td>\n",
       "      <td>5</td>\n",
       "      <td>6</td>\n",
       "      <td>6</td>\n",
       "    </tr>\n",
       "    <tr>\n",
       "      <th>1</th>\n",
       "      <td>GP</td>\n",
       "      <td>F</td>\n",
       "      <td>17</td>\n",
       "      <td>U</td>\n",
       "      <td>GT3</td>\n",
       "      <td>T</td>\n",
       "      <td>1</td>\n",
       "      <td>1</td>\n",
       "      <td>at_home</td>\n",
       "      <td>other</td>\n",
       "      <td>...</td>\n",
       "      <td>5</td>\n",
       "      <td>3</td>\n",
       "      <td>3</td>\n",
       "      <td>1</td>\n",
       "      <td>1</td>\n",
       "      <td>3</td>\n",
       "      <td>4</td>\n",
       "      <td>5</td>\n",
       "      <td>5</td>\n",
       "      <td>6</td>\n",
       "    </tr>\n",
       "    <tr>\n",
       "      <th>2</th>\n",
       "      <td>GP</td>\n",
       "      <td>F</td>\n",
       "      <td>15</td>\n",
       "      <td>U</td>\n",
       "      <td>LE3</td>\n",
       "      <td>T</td>\n",
       "      <td>1</td>\n",
       "      <td>1</td>\n",
       "      <td>at_home</td>\n",
       "      <td>other</td>\n",
       "      <td>...</td>\n",
       "      <td>4</td>\n",
       "      <td>3</td>\n",
       "      <td>2</td>\n",
       "      <td>2</td>\n",
       "      <td>3</td>\n",
       "      <td>3</td>\n",
       "      <td>10</td>\n",
       "      <td>7</td>\n",
       "      <td>8</td>\n",
       "      <td>10</td>\n",
       "    </tr>\n",
       "    <tr>\n",
       "      <th>3</th>\n",
       "      <td>GP</td>\n",
       "      <td>F</td>\n",
       "      <td>15</td>\n",
       "      <td>U</td>\n",
       "      <td>GT3</td>\n",
       "      <td>T</td>\n",
       "      <td>4</td>\n",
       "      <td>2</td>\n",
       "      <td>health</td>\n",
       "      <td>services</td>\n",
       "      <td>...</td>\n",
       "      <td>3</td>\n",
       "      <td>2</td>\n",
       "      <td>2</td>\n",
       "      <td>1</td>\n",
       "      <td>1</td>\n",
       "      <td>5</td>\n",
       "      <td>2</td>\n",
       "      <td>15</td>\n",
       "      <td>14</td>\n",
       "      <td>15</td>\n",
       "    </tr>\n",
       "    <tr>\n",
       "      <th>4</th>\n",
       "      <td>GP</td>\n",
       "      <td>F</td>\n",
       "      <td>16</td>\n",
       "      <td>U</td>\n",
       "      <td>GT3</td>\n",
       "      <td>T</td>\n",
       "      <td>3</td>\n",
       "      <td>3</td>\n",
       "      <td>other</td>\n",
       "      <td>other</td>\n",
       "      <td>...</td>\n",
       "      <td>4</td>\n",
       "      <td>3</td>\n",
       "      <td>2</td>\n",
       "      <td>1</td>\n",
       "      <td>2</td>\n",
       "      <td>5</td>\n",
       "      <td>4</td>\n",
       "      <td>6</td>\n",
       "      <td>10</td>\n",
       "      <td>10</td>\n",
       "    </tr>\n",
       "  </tbody>\n",
       "</table>\n",
       "<p>5 rows × 33 columns</p>\n",
       "</div>"
      ],
      "text/plain": [
       "  school sex  age address famsize Pstatus  Medu  Fedu     Mjob      Fjob  ...  \\\n",
       "0     GP   F   18       U     GT3       A     4     4  at_home   teacher  ...   \n",
       "1     GP   F   17       U     GT3       T     1     1  at_home     other  ...   \n",
       "2     GP   F   15       U     LE3       T     1     1  at_home     other  ...   \n",
       "3     GP   F   15       U     GT3       T     4     2   health  services  ...   \n",
       "4     GP   F   16       U     GT3       T     3     3    other     other  ...   \n",
       "\n",
       "  famrel freetime  goout  Dalc  Walc health absences  G1  G2  G3  \n",
       "0      4        3      4     1     1      3        6   5   6   6  \n",
       "1      5        3      3     1     1      3        4   5   5   6  \n",
       "2      4        3      2     2     3      3       10   7   8  10  \n",
       "3      3        2      2     1     1      5        2  15  14  15  \n",
       "4      4        3      2     1     2      5        4   6  10  10  \n",
       "\n",
       "[5 rows x 33 columns]"
      ]
     },
     "execution_count": 3,
     "metadata": {},
     "output_type": "execute_result"
    }
   ],
   "source": [
    "student.head()"
   ]
  },
  {
   "cell_type": "code",
   "execution_count": 4,
   "id": "711fa9d0",
   "metadata": {},
   "outputs": [],
   "source": [
    "#student.info()"
   ]
  },
  {
   "cell_type": "code",
   "execution_count": 5,
   "id": "511af02f",
   "metadata": {},
   "outputs": [],
   "source": [
    "#student.describe()"
   ]
  },
  {
   "cell_type": "markdown",
   "id": "92f37eff",
   "metadata": {},
   "source": [
    "### B- Plotting a histogram for Health Status (health), Study Time (studytime), Free Time After School (freetime), Goes Out with Friends (goout), Number of Absences (absences), First Period Grade (G1), Second Period Grade (G2), and Third Period Grade (G3)"
   ]
  },
  {
   "cell_type": "code",
   "execution_count": 6,
   "id": "09757124",
   "metadata": {},
   "outputs": [
    {
     "data": {
      "text/plain": [
       "\"student.hist(column= ['studytime','health','freetime','goout','absences','G1','G2','G3'],bins=10, figsize=(24, 16))\\nplt.show() \""
      ]
     },
     "execution_count": 6,
     "metadata": {},
     "output_type": "execute_result"
    }
   ],
   "source": [
    "'''student.hist(column= ['studytime','health','freetime','goout','absences','G1','G2','G3'],bins=10, figsize=(24, 16))\n",
    "plt.show() '''"
   ]
  },
  {
   "cell_type": "markdown",
   "id": "876294d3",
   "metadata": {},
   "source": [
    "### C- G3 correlation matrix with other attributes"
   ]
  },
  {
   "cell_type": "code",
   "execution_count": 7,
   "id": "a81d88dd",
   "metadata": {},
   "outputs": [
    {
     "name": "stdout",
     "output_type": "stream",
     "text": [
      "age          -0.161579\n",
      "Medu          0.217147\n",
      "Fedu          0.152457\n",
      "traveltime   -0.117142\n",
      "studytime     0.097820\n",
      "failures     -0.360415\n",
      "famrel        0.051363\n",
      "freetime      0.011307\n",
      "goout        -0.132791\n",
      "Dalc         -0.054660\n",
      "Walc         -0.051939\n",
      "health       -0.061335\n",
      "absences      0.034247\n",
      "G1            0.801468\n",
      "G2            0.904868\n",
      "G3            1.000000\n",
      "Name: G3, dtype: float64\n"
     ]
    }
   ],
   "source": [
    "cor_matrix=student.corr()\n",
    "print(cor_matrix['G3']) "
   ]
  },
  {
   "cell_type": "markdown",
   "id": "564745d9",
   "metadata": {},
   "source": [
    "### D- correlation between attributes using sns.pairplot."
   ]
  },
  {
   "cell_type": "code",
   "execution_count": 8,
   "id": "a8af51ac",
   "metadata": {},
   "outputs": [],
   "source": [
    "#sns.pairplot(student)"
   ]
  },
  {
   "cell_type": "markdown",
   "id": "eb627a94",
   "metadata": {},
   "source": [
    "### 2- Droping columns: Mother’s job (Mjob), Father’s job (Fjob), Reason at School (reason), and Student’s Guardian (guardian)."
   ]
  },
  {
   "cell_type": "code",
   "execution_count": 9,
   "id": "afeaa6a4",
   "metadata": {},
   "outputs": [],
   "source": [
    "student.drop(['Mjob','Fjob','reason','guardian'],axis='columns',inplace=True)"
   ]
  },
  {
   "cell_type": "markdown",
   "id": "32fe646f",
   "metadata": {},
   "source": [
    "### 3 - Check if there are null values and fill them with the mean value of that attribute if it is numerical, and with the most common occurrence of that value if it is categorical."
   ]
  },
  {
   "cell_type": "code",
   "execution_count": 10,
   "id": "90749b94",
   "metadata": {},
   "outputs": [],
   "source": [
    "#student.isnull().sum()"
   ]
  },
  {
   "cell_type": "markdown",
   "id": "3686971f",
   "metadata": {},
   "source": [
    "### 4 - Encode the categorical columns using get_dummies encoder."
   ]
  },
  {
   "cell_type": "code",
   "execution_count": 19,
   "id": "f0154b7a",
   "metadata": {},
   "outputs": [
    {
     "name": "stdout",
     "output_type": "stream",
     "text": [
      "<class 'pandas.core.frame.DataFrame'>\n",
      "RangeIndex: 395 entries, 0 to 394\n",
      "Data columns (total 29 columns):\n",
      " #   Column      Non-Null Count  Dtype \n",
      "---  ------      --------------  ----- \n",
      " 0   school      395 non-null    object\n",
      " 1   sex         395 non-null    object\n",
      " 2   age         395 non-null    int64 \n",
      " 3   address     395 non-null    object\n",
      " 4   famsize     395 non-null    object\n",
      " 5   Pstatus     395 non-null    object\n",
      " 6   Medu        395 non-null    int64 \n",
      " 7   Fedu        395 non-null    int64 \n",
      " 8   traveltime  395 non-null    int64 \n",
      " 9   studytime   395 non-null    int64 \n",
      " 10  failures    395 non-null    int64 \n",
      " 11  schoolsup   395 non-null    object\n",
      " 12  famsup      395 non-null    object\n",
      " 13  paid        395 non-null    object\n",
      " 14  activities  395 non-null    object\n",
      " 15  nursery     395 non-null    object\n",
      " 16  higher      395 non-null    object\n",
      " 17  internet    395 non-null    object\n",
      " 18  romantic    395 non-null    object\n",
      " 19  famrel      395 non-null    int64 \n",
      " 20  freetime    395 non-null    int64 \n",
      " 21  goout       395 non-null    int64 \n",
      " 22  Dalc        395 non-null    int64 \n",
      " 23  Walc        395 non-null    int64 \n",
      " 24  health      395 non-null    int64 \n",
      " 25  absences    395 non-null    int64 \n",
      " 26  G1          395 non-null    int64 \n",
      " 27  G2          395 non-null    int64 \n",
      " 28  G3          395 non-null    int64 \n",
      "dtypes: int64(16), object(13)\n",
      "memory usage: 89.6+ KB\n",
      "None\n"
     ]
    }
   ],
   "source": [
    "categorical = student.select_dtypes(include=['object']).columns\n",
    "get_dummy = pd.get_dummies(student, columns=categorical)\n",
    "get_dummy['G3']\n",
    "print(student.info())"
   ]
  },
  {
   "cell_type": "markdown",
   "id": "bc6d1abd",
   "metadata": {},
   "source": [
    "### 5 - Standardize the data using StandardScaler."
   ]
  },
  {
   "cell_type": "code",
   "execution_count": 12,
   "id": "47b47e4d",
   "metadata": {},
   "outputs": [
    {
     "data": {
      "text/plain": [
       "'from sklearn.preprocessing import StandardScaler\\n\\nstudent_scaler = StandardScaler()\\n\\n#stu_num = pd.student.select_dtypes(include=[np.number])\\nstu_num = student.select_dtypes(include=[np.number])\\nstudent_scaled = student_scaler.fit_transform(stu_num)\\nstudent_scaled '"
      ]
     },
     "execution_count": 12,
     "metadata": {},
     "output_type": "execute_result"
    }
   ],
   "source": [
    "'''from sklearn.preprocessing import StandardScaler\n",
    "\n",
    "student_scaler = StandardScaler()\n",
    "\n",
    "#stu_num = pd.student.select_dtypes(include=[np.number])\n",
    "stu_num = student.select_dtypes(include=[np.number])\n",
    "student_scaled = student_scaler.fit_transform(stu_num)\n",
    "student_scaled '''"
   ]
  },
  {
   "cell_type": "markdown",
   "id": "cd46e6ed",
   "metadata": {},
   "source": [
    "### 6 - Split the data into 80% training set and 20% testing set, and print the shape of X_train, y_train, X_test, and y_test."
   ]
  },
  {
   "cell_type": "code",
   "execution_count": 13,
   "id": "f10750fb",
   "metadata": {},
   "outputs": [
    {
     "data": {
      "text/plain": [
       "'from sklearn.model_selection import train_test_split\\n\\nfeature=get_dummy.drop(\\'G3\\',axis=1)\\ntarget= get_dummy[\\'G3\\']\\nX_train, X_test, y_train, y_test = train_test_split(feature,target, test_size=0.2)\\n\\nprint(\"train_set: \", X_train.shape, y_train.shape)\\n\\nprint(\"--------------------------------------------\")\\n\\nprint(\"test_set: \",X_test.shape , y_test.shape)\\n '"
      ]
     },
     "execution_count": 13,
     "metadata": {},
     "output_type": "execute_result"
    }
   ],
   "source": [
    "'''from sklearn.model_selection import train_test_split\n",
    "\n",
    "feature=get_dummy.drop('G3',axis=1)\n",
    "target= get_dummy['G3']\n",
    "X_train, X_test, y_train, y_test = train_test_split(feature,target, test_size=0.2)\n",
    "\n",
    "print(\"train_set: \", X_train.shape, y_train.shape)\n",
    "\n",
    "print(\"--------------------------------------------\")\n",
    "\n",
    "print(\"test_set: \",X_test.shape , y_test.shape)\n",
    " '''\n"
   ]
  },
  {
   "cell_type": "markdown",
   "id": "ff51b771",
   "metadata": {},
   "source": [
    "### 7- Train a linear regression model to predict G3."
   ]
  },
  {
   "cell_type": "code",
   "execution_count": 14,
   "id": "97bfcd59",
   "metadata": {},
   "outputs": [
    {
     "data": {
      "text/plain": [
       "'from sklearn.linear_model import LinearRegression\\n\\nmodel = LinearRegression()\\n\\nmodel.fit(X_train,y_train)\\n\\npredicted = model.predict(X_test)\\nprint(predicted) '"
      ]
     },
     "execution_count": 14,
     "metadata": {},
     "output_type": "execute_result"
    }
   ],
   "source": [
    "'''from sklearn.linear_model import LinearRegression\n",
    "\n",
    "model = LinearRegression()\n",
    "\n",
    "model.fit(X_train,y_train)\n",
    "\n",
    "predicted = model.predict(X_test)\n",
    "print(predicted) '''\n",
    "\n"
   ]
  },
  {
   "cell_type": "markdown",
   "id": "9912a3dd",
   "metadata": {},
   "source": [
    "### 8 - Test your model on the test dataset and report on the MSE."
   ]
  },
  {
   "cell_type": "code",
   "execution_count": 15,
   "id": "5c9326b4",
   "metadata": {},
   "outputs": [
    {
     "data": {
      "text/plain": [
       "'from sklearn.metrics import mean_squared_error\\n\\nmse = mean_squared_error(y_test, predicted)\\nprint(mse)  '"
      ]
     },
     "execution_count": 15,
     "metadata": {},
     "output_type": "execute_result"
    }
   ],
   "source": [
    "'''from sklearn.metrics import mean_squared_error\n",
    "\n",
    "mse = mean_squared_error(y_test, predicted)\n",
    "print(mse)  '''"
   ]
  },
  {
   "cell_type": "markdown",
   "id": "f594c72c",
   "metadata": {},
   "source": [
    "### 9 - Regularize your model using Ridge and Lasso regularization with alpha=1."
   ]
  },
  {
   "cell_type": "code",
   "execution_count": 16,
   "id": "77a02c25",
   "metadata": {},
   "outputs": [
    {
     "data": {
      "text/plain": [
       "'from sklearn.linear_model import Ridge , Lasso\\n\\nridgeModel = Ridge(alpha=1)\\nridgeModel.fit(X_train,y_train)\\n\\nlassoModel = Lasso(alpha=1)\\nlassoModel.fit(X_train,y_train)\\n\\npredicted_ridge = ridgeModel.predict(X_test)\\npredicted_lasso = lassoModel.predict(X_test)\\n\\nmse_ridge = mean_squared_error(y_test,predicted_ridge)\\nmse_lasso = mean_squared_error(y_test,predicted_lasso)\\n\\nprint(\"Ridge_mse: \",mse_ridge)\\nprint(\"Lasso_mse: \",mse_lasso) '"
      ]
     },
     "execution_count": 16,
     "metadata": {},
     "output_type": "execute_result"
    }
   ],
   "source": [
    "'''from sklearn.linear_model import Ridge , Lasso\n",
    "\n",
    "ridgeModel = Ridge(alpha=1)\n",
    "ridgeModel.fit(X_train,y_train)\n",
    "\n",
    "lassoModel = Lasso(alpha=1)\n",
    "lassoModel.fit(X_train,y_train)\n",
    "\n",
    "predicted_ridge = ridgeModel.predict(X_test)\n",
    "predicted_lasso = lassoModel.predict(X_test)\n",
    "\n",
    "mse_ridge = mean_squared_error(y_test,predicted_ridge)\n",
    "mse_lasso = mean_squared_error(y_test,predicted_lasso)\n",
    "\n",
    "print(\"Ridge_mse: \",mse_ridge)\n",
    "print(\"Lasso_mse: \",mse_lasso) '''"
   ]
  },
  {
   "cell_type": "markdown",
   "id": "fe707c27",
   "metadata": {},
   "source": [
    "### 10 - Test your models from 9 on the test dataset and report on the MSE."
   ]
  },
  {
   "cell_type": "code",
   "execution_count": 17,
   "id": "d8fd2e0f",
   "metadata": {},
   "outputs": [
    {
     "data": {
      "text/plain": [
       "'rid_pred = ridgeModel.predict(X_test)\\nprint(rid_pred)\\nlas_pred = lassoModel.predict(X_test)\\n\\nprint(\"------------------------\")\\nprint(las_pred)  '"
      ]
     },
     "execution_count": 17,
     "metadata": {},
     "output_type": "execute_result"
    }
   ],
   "source": [
    "'''rid_pred = ridgeModel.predict(X_test)\n",
    "print(rid_pred)\n",
    "las_pred = lassoModel.predict(X_test)\n",
    "\n",
    "print(\"------------------------\")\n",
    "print(las_pred)  '''"
   ]
  },
  {
   "cell_type": "markdown",
   "id": "6746a22b",
   "metadata": {},
   "source": [
    "### 11 - Plot a graph of your model showing the highest correlated feature (with G3) on the x-axis and G3 on the y-axis."
   ]
  },
  {
   "cell_type": "code",
   "execution_count": 18,
   "id": "f886fa4d",
   "metadata": {},
   "outputs": [
    {
     "data": {
      "text/plain": [
       "' import matplotlib.pyplot as plt\\nimport seaborn as sns\\n\\ncorr_matrix = student.corr()\\n\\nhighestCorrFeature =  corr_matrix[\\'G3\\'].sort_values(ascending = False).index[1]\\n\\nsns.scatterplot(x=student[highestCorrFeature], y =student[\"G3\"])\\nplt.xlabel(highestCorrFeature)\\nplt.ylabel(\"G3\") \\nplt.show() '"
      ]
     },
     "execution_count": 18,
     "metadata": {},
     "output_type": "execute_result"
    }
   ],
   "source": [
    "''' import matplotlib.pyplot as plt\n",
    "import seaborn as sns\n",
    "\n",
    "corr_matrix = student.corr()\n",
    "\n",
    "highestCorrFeature =  corr_matrix['G3'].sort_values(ascending = False).index[1]\n",
    "\n",
    "sns.scatterplot(x=student[highestCorrFeature], y =student[\"G3\"])\n",
    "plt.xlabel(highestCorrFeature)\n",
    "plt.ylabel(\"G3\") \n",
    "plt.show() '''"
   ]
  }
 ],
 "metadata": {
  "kernelspec": {
   "display_name": "Python 3 (ipykernel)",
   "language": "python",
   "name": "python3"
  },
  "language_info": {
   "codemirror_mode": {
    "name": "ipython",
    "version": 3
   },
   "file_extension": ".py",
   "mimetype": "text/x-python",
   "name": "python",
   "nbconvert_exporter": "python",
   "pygments_lexer": "ipython3",
   "version": "3.9.13"
  }
 },
 "nbformat": 4,
 "nbformat_minor": 5
}
